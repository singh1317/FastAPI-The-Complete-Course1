{
 "cells": [
  {
   "cell_type": "code",
   "execution_count": 2,
   "metadata": {},
   "outputs": [
    {
     "name": "stdout",
     "output_type": "stream",
     "text": [
      "Eric\n",
      "Melissa\n"
     ]
    }
   ],
   "source": [
    "#Variables\n",
    "\n",
    "first_name = \"Eric\"\n",
    "print(first_name)\n",
    "first_name = \"Melissa\"\n",
    "print(first_name)"
   ]
  },
  {
   "cell_type": "code",
   "execution_count": 3,
   "metadata": {},
   "outputs": [
    {
     "name": "stdout",
     "output_type": "stream",
     "text": [
      "Hi Eric\n"
     ]
    },
    {
     "data": {
      "text/plain": [
       "'\\nThis is going over\\nmultiple \\nlines\\n'"
      ]
     },
     "execution_count": 3,
     "metadata": {},
     "output_type": "execute_result"
    }
   ],
   "source": [
    "#COMMENTS\n",
    "\n",
    "\n",
    "# Going to print hello world!\n",
    "# print(\"Hello World\")\n",
    "print(\"Hi Eric\")\n",
    "\n",
    "# This is going over\n",
    "# Multiple\n",
    "# Lines\n",
    "\n",
    "\"\"\"\n",
    "This is going over\n",
    "multiple \n",
    "lines\n",
    "\"\"\"\n",
    "\n",
    "'''\n",
    "This is going over\n",
    "multiple \n",
    "lines\n",
    "'''"
   ]
  }
 ],
 "metadata": {
  "kernelspec": {
   "display_name": "Python 3",
   "language": "python",
   "name": "python3"
  },
  "language_info": {
   "codemirror_mode": {
    "name": "ipython",
    "version": 3
   },
   "file_extension": ".py",
   "mimetype": "text/x-python",
   "name": "python",
   "nbconvert_exporter": "python",
   "pygments_lexer": "ipython3",
   "version": "3.12.7"
  }
 },
 "nbformat": 4,
 "nbformat_minor": 2
}
